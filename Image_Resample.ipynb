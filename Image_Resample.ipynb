{
  "nbformat": 4,
  "nbformat_minor": 0,
  "metadata": {
    "colab": {
      "provenance": [],
      "include_colab_link": true
    },
    "kernelspec": {
      "name": "python3",
      "display_name": "Python 3"
    },
    "language_info": {
      "name": "python"
    },
    "accelerator": "GPU",
    "gpuClass": "standard"
  },
  "cells": [
    {
      "cell_type": "markdown",
      "metadata": {
        "id": "view-in-github",
        "colab_type": "text"
      },
      "source": [
        "<a href=\"https://colab.research.google.com/github/eric-shaker/BIOENG_1340_AUTO_TUMOR_SEGMENTATION/blob/main/Image_Resample.ipynb\" target=\"_parent\"><img src=\"https://colab.research.google.com/assets/colab-badge.svg\" alt=\"Open In Colab\"/></a>"
      ]
    },
    {
      "cell_type": "code",
      "execution_count": null,
      "metadata": {
        "colab": {
          "base_uri": "https://localhost:8080/"
        },
        "id": "Z167xli_MJYc",
        "outputId": "9d8a3846-8381-4a4d-c681-14e168decb59"
      },
      "outputs": [
        {
          "output_type": "stream",
          "name": "stdout",
          "text": [
            "Drive already mounted at /content/gdrive/; to attempt to forcibly remount, call drive.mount(\"/content/gdrive/\", force_remount=True).\n"
          ]
        }
      ],
      "source": [
        "from google.colab import drive\n",
        "drive.mount('/content/gdrive/')"
      ]
    },
    {
      "cell_type": "code",
      "source": [
        "!pip install SimpleITK"
      ],
      "metadata": {
        "colab": {
          "base_uri": "https://localhost:8080/"
        },
        "id": "suIUUvawdFkn",
        "outputId": "1bc98b0b-7aa3-4231-cdd3-fbf95c049b8e"
      },
      "execution_count": null,
      "outputs": [
        {
          "output_type": "stream",
          "name": "stdout",
          "text": [
            "Looking in indexes: https://pypi.org/simple, https://us-python.pkg.dev/colab-wheels/public/simple/\n",
            "Requirement already satisfied: SimpleITK in /usr/local/lib/python3.8/dist-packages (2.2.0)\n"
          ]
        }
      ]
    },
    {
      "cell_type": "code",
      "source": [
        "# Import the packages\n",
        "import os\n",
        "import numpy as np\n",
        "import SimpleITK as sitk\n",
        "import pandas as pd\n",
        "from tqdm import tqdm"
      ],
      "metadata": {
        "id": "cM6bX_1Bg2-x"
      },
      "execution_count": null,
      "outputs": []
    },
    {
      "cell_type": "code",
      "source": [
        "# Function to resample the images\n",
        "def resample_image_standardize(itk_image1, out_size=(64, 64, 64), is_label=False):\n",
        "    itk_image1.SetOrigin([0, 0, 0])\n",
        "\n",
        "    original_spacing = itk_image1.GetSpacing()\n",
        "    original_size = itk_image1.GetSize()\n",
        "\n",
        "    out_spacing = [\n",
        "        (original_size[0] * (original_spacing[0] / out_size[0])),\n",
        "        (original_size[1] * (original_spacing[1] / out_size[1])),\n",
        "        (original_size[2] * (original_spacing[2] / out_size[2])),\n",
        "    ]\n",
        "\n",
        "    reference_image = sitk.Image(out_size, 1)\n",
        "    reference_image.SetDirection(itk_image1.GetDirection())\n",
        "    reference_image.SetSpacing(out_spacing)\n",
        "    reference_image.SetPixel\n",
        "    interpolator = sitk.sitkNearestNeighbor if is_label else sitk.sitkBSpline\n",
        "\n",
        "    return sitk.Resample(itk_image1, reference_image, sitk.Transform(), interpolator)"
      ],
      "metadata": {
        "id": "kV3-N2FDcrSR"
      },
      "execution_count": null,
      "outputs": []
    },
    {
      "cell_type": "code",
      "source": [
        "# Function to rescale the images to a range between 0 and 255\n",
        "def rescale_image(itk_image2):\n",
        "    rescaleFilter = sitk.RescaleIntensityImageFilter()\n",
        "    rescaleFilter.SetOutputMaximum(255)\n",
        "    rescaleFilter.SetOutputMinimum(0)\n",
        "    return rescaleFilter.Execute(itk_image2)"
      ],
      "metadata": {
        "id": "ZQN5O6RpgkAr"
      },
      "execution_count": null,
      "outputs": []
    },
    {
      "cell_type": "markdown",
      "source": [
        "# Testing the Functions"
      ],
      "metadata": {
        "id": "s369_R5lhLkZ"
      }
    },
    {
      "cell_type": "code",
      "source": [
        "# Get a sample image path\n",
        "train_path = \"/content/gdrive/MyDrive/BIOENG 1340 - Final Project/images/train_images\"\n",
        "img_path = os.path.join(train_path, os.listdir(train_path)[0])\n",
        "\n",
        "# Read the image in, downsample it to 64x64x64 voxels, and rescale it between 0 and 255\n",
        "img = sitk.ReadImage(img_path)\n",
        "temp = img\n",
        "img = resample_image_standardize(img, out_size=(32,32,32), is_label=False)\n",
        "img.SetOrigin(temp.GetOrigin())\n",
        "sitk.WriteImage(img, \"test.nii.gz\")\n",
        "img = rescale_image(img)\n",
        "sitk.WriteImage(img, \"test1.nii.gz\")"
      ],
      "metadata": {
        "id": "cxeEskTKgutp"
      },
      "execution_count": null,
      "outputs": []
    },
    {
      "cell_type": "code",
      "source": [
        "# Get a sample seg path\n",
        "img_path = \"/content/gdrive/MyDrive/BIOENG 1340 -Final Project/segs/train_segs_WT/BraTS20_Training_281_seg_WT.nii.gz\"\n",
        "\n",
        "# Read the segmentation in and downsample it to 64x64x64 voxels\n",
        "img = sitk.ReadImage(img_path)\n",
        "temp = img\n",
        "img = resample_image_standardize(img, out_size=(64,64,64), is_label=True)\n",
        "img.SetOrigin(temp.GetOrigin())\n",
        "sitk.WriteImage(img, \"test_seg.nii.gz\")"
      ],
      "metadata": {
        "id": "uod3wfNwnsET"
      },
      "execution_count": null,
      "outputs": []
    },
    {
      "cell_type": "markdown",
      "source": [
        "# Resample all the Images and Segmentations"
      ],
      "metadata": {
        "id": "u01cd3_AqFmj"
      }
    },
    {
      "cell_type": "code",
      "source": [
        "os.makedirs(\"/content/gdrive/MyDrive/BIOENG_1340/BIOENG 1340 - Final Project/images/train_images32\", exist_ok=True)\n",
        "os.makedirs(\"/content/gdrive/MyDrive/BIOENG_1340/BIOENG 1340 - Final Project/images/test_images32\", exist_ok=True)\n",
        "os.makedirs(\"/content/gdrive/MyDrive/BIOENG_1340/BIOENG 1340 - Final Project/segs/train_segs_WT32\", exist_ok=True)\n",
        "os.makedirs(\"/content/gdrive/MyDrive/BIOENG_1340/BIOENG 1340 - Final Project/segs/test_segs_WT32\", exist_ok=True)"
      ],
      "metadata": {
        "id": "hNcj1rCLqVU8"
      },
      "execution_count": null,
      "outputs": []
    },
    {
      "cell_type": "code",
      "source": [
        "# Function to input the images into the resampling functions and output them to another directory\n",
        "def resample_imgs(img_dir, output_path, img_size=(64,64,64), out_name=\"64\"):\n",
        "  all_img_paths = os.listdir(img_dir)\n",
        "  for img_name in tqdm(all_img_paths):\n",
        "    # Read the image in, downsample it to 64x64x64 voxels, and rescale it between 0 and 255\n",
        "    img = sitk.ReadImage(os.path.join(img_dir,img_name))\n",
        "    temp = img\n",
        "    img = resample_image_standardize(img, out_size=img_size, is_label=False)\n",
        "    img.SetOrigin(temp.GetOrigin())\n",
        "    img = rescale_image(img)\n",
        "    idx = img_name.find(\".nii\")\n",
        "    output_name = img_name[:idx] + out_name + \".nii.gz\"\n",
        "    sitk.WriteImage(img, os.path.join(output_path, output_name))\n"
      ],
      "metadata": {
        "id": "U2uvXPkAqn00"
      },
      "execution_count": null,
      "outputs": []
    },
    {
      "cell_type": "code",
      "source": [
        "# Function to input the masks into the resampling functions and output them to another directory\n",
        "def resample_segs(seg_dir, output_path, img_size=(64,64,64), out_name=\"64\"):\n",
        "  all_seg_paths = os.listdir(seg_dir)\n",
        "  for seg_name in tqdm(all_seg_paths):\n",
        "    # Read the mask in and downsample it to 64x64x64 voxels\n",
        "    seg = sitk.ReadImage(os.path.join(seg_dir,seg_name))\n",
        "    temp = seg\n",
        "    seg = resample_image_standardize(seg, out_size=img_size, is_label=True)\n",
        "    seg.SetOrigin(temp.GetOrigin())\n",
        "    idx = seg_name.find(\".nii\")\n",
        "    output_name = seg_name[:idx] + out_name + seg_name[idx:]\n",
        "    sitk.WriteImage(seg, os.path.join(output_path, output_name))"
      ],
      "metadata": {
        "id": "Q_kgVy4qrpNs"
      },
      "execution_count": null,
      "outputs": []
    },
    {
      "cell_type": "code",
      "source": [
        "# Resample the images\n",
        "resample_imgs(\"/content/gdrive/MyDrive/BIOENG 1340 - Final Project/images/train_images\",\n",
        "              \"/content/gdrive/MyDrive/BIOENG 1340 - Final Project/images/train_images32\",(32,32,32),\"32\")\n",
        "resample_imgs(\"/content/gdrive/MyDrive/BIOENG 1340 - Final Project/images/test_images\",\n",
        "              \"/content/gdrive/MyDrive/BIOENG 1340 - Final Project/images/test_images32\",(32,32,32),\"32\")"
      ],
      "metadata": {
        "colab": {
          "base_uri": "https://localhost:8080/"
        },
        "id": "e6XlxNI0renc",
        "outputId": "33a31376-6631-4f29-e452-5b6cb39f05db"
      },
      "execution_count": null,
      "outputs": [
        {
          "output_type": "stream",
          "name": "stderr",
          "text": [
            "100%|██████████| 100/100 [00:51<00:00,  1.93it/s]\n",
            "100%|██████████| 50/50 [00:25<00:00,  1.93it/s]\n"
          ]
        }
      ]
    },
    {
      "cell_type": "code",
      "source": [
        "# Resample the masks\n",
        "resample_segs(\"/content/gdrive/MyDrive/BIOENG 1340 - Final Project/segs/train_segs_WT\",\n",
        "              \"/content/gdrive/MyDrive/BIOENG 1340 - Final Project/segs/train_segs_WT32\",(32,32,32),\"32\")\n",
        "resample_segs(\"/content/gdrive/MyDrive/BIOENG 1340 - Final Project/segs/test_segs_WT\",\n",
        "              \"/content/gdrive/MyDrive/BIOENG 1340 - Final Project/segs/test_segs_WT32\",(32,32,32),\"32\")"
      ],
      "metadata": {
        "colab": {
          "base_uri": "https://localhost:8080/"
        },
        "id": "KQ8JVwt_sL70",
        "outputId": "07cae527-b82f-41f9-a025-cc72e3b20a54"
      },
      "execution_count": null,
      "outputs": [
        {
          "output_type": "stream",
          "name": "stderr",
          "text": [
            "100%|██████████| 100/100 [00:03<00:00, 25.36it/s]\n",
            "100%|██████████| 50/50 [00:02<00:00, 24.71it/s]\n"
          ]
        }
      ]
    }
  ]
}