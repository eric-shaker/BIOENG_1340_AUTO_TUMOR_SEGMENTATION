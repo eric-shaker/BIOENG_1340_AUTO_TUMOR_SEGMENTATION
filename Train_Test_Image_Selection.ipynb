{
  "cells": [
    {
      "cell_type": "markdown",
      "metadata": {
        "id": "view-in-github",
        "colab_type": "text"
      },
      "source": [
        "<a href=\"https://colab.research.google.com/github/eric-shaker/BIOENG_1340_AUTO_TUMOR_SEGMENTATION/blob/main/Train_Test_Image_Selection.ipynb\" target=\"_parent\"><img src=\"https://colab.research.google.com/assets/colab-badge.svg\" alt=\"Open In Colab\"/></a>"
      ]
    },
    {
      "cell_type": "code",
      "execution_count": null,
      "id": "381e9b18-c7aa-407b-966d-b4b4adc90b3e",
      "metadata": {
        "id": "381e9b18-c7aa-407b-966d-b4b4adc90b3e"
      },
      "outputs": [],
      "source": [
        "# Import all the packages\n",
        "import os\n",
        "import glob as glob\n",
        "import pandas as pd\n",
        "from sklearn.model_selection import train_test_split\n",
        "import shutil"
      ]
    },
    {
      "cell_type": "code",
      "execution_count": null,
      "id": "6a5fcbf2-ce9d-4db3-acc1-59859cb25941",
      "metadata": {
        "id": "6a5fcbf2-ce9d-4db3-acc1-59859cb25941"
      },
      "outputs": [],
      "source": [
        "# Create folders to store the training and testing data\n",
        "os.makedirs(\"./train_images\", exist_ok=True)\n",
        "os.makedirs(\"./train_segs\", exist_ok=True)\n",
        "os.makedirs(\"./test_images\", exist_ok=True)\n",
        "os.makedirs(\"./test_segs\", exist_ok=True)"
      ]
    },
    {
      "cell_type": "code",
      "execution_count": null,
      "id": "34b96014-b6ab-4987-9bba-a8b1ce2645b3",
      "metadata": {
        "id": "34b96014-b6ab-4987-9bba-a8b1ce2645b3",
        "outputId": "bd5d7884-c58d-41ca-b59f-049e05e530be"
      },
      "outputs": [
        {
          "name": "stdout",
          "output_type": "stream",
          "text": [
            "369\n",
            "369\n"
          ]
        }
      ],
      "source": [
        "# Obtain all the T2 FLAIR Image and segmentation files\n",
        "p_path = \"./BraTS2020_TrainingData/MICCAI_BraTS2020_TrainingData\"\n",
        "all_flair_imgs = glob.glob(os.path.join(p_path,\"**\",\"*_flair.nii\"))\n",
        "all_segs = glob.glob(os.path.join(p_path,\"**\",\"*_seg.nii\"))\n",
        "print(len(all_flair_imgs))\n",
        "print(len(all_segs))"
      ]
    },
    {
      "cell_type": "code",
      "execution_count": null,
      "id": "f5b0399b-2cd5-487c-81fc-7c881f60a211",
      "metadata": {
        "id": "f5b0399b-2cd5-487c-81fc-7c881f60a211",
        "outputId": "c9b76915-dbf0-4178-81bf-bf6351feb9c2"
      },
      "outputs": [
        {
          "data": {
            "text/html": [
              "<div>\n",
              "<style scoped>\n",
              "    .dataframe tbody tr th:only-of-type {\n",
              "        vertical-align: middle;\n",
              "    }\n",
              "\n",
              "    .dataframe tbody tr th {\n",
              "        vertical-align: top;\n",
              "    }\n",
              "\n",
              "    .dataframe thead th {\n",
              "        text-align: right;\n",
              "    }\n",
              "</style>\n",
              "<table border=\"1\" class=\"dataframe\">\n",
              "  <thead>\n",
              "    <tr style=\"text-align: right;\">\n",
              "      <th></th>\n",
              "      <th>flair_imgs</th>\n",
              "      <th>segs</th>\n",
              "    </tr>\n",
              "  </thead>\n",
              "  <tbody>\n",
              "    <tr>\n",
              "      <th>0</th>\n",
              "      <td>./BraTS2020_TrainingData/MICCAI_BraTS2020_Trai...</td>\n",
              "      <td>./BraTS2020_TrainingData/MICCAI_BraTS2020_Trai...</td>\n",
              "    </tr>\n",
              "    <tr>\n",
              "      <th>1</th>\n",
              "      <td>./BraTS2020_TrainingData/MICCAI_BraTS2020_Trai...</td>\n",
              "      <td>./BraTS2020_TrainingData/MICCAI_BraTS2020_Trai...</td>\n",
              "    </tr>\n",
              "    <tr>\n",
              "      <th>2</th>\n",
              "      <td>./BraTS2020_TrainingData/MICCAI_BraTS2020_Trai...</td>\n",
              "      <td>./BraTS2020_TrainingData/MICCAI_BraTS2020_Trai...</td>\n",
              "    </tr>\n",
              "    <tr>\n",
              "      <th>3</th>\n",
              "      <td>./BraTS2020_TrainingData/MICCAI_BraTS2020_Trai...</td>\n",
              "      <td>./BraTS2020_TrainingData/MICCAI_BraTS2020_Trai...</td>\n",
              "    </tr>\n",
              "    <tr>\n",
              "      <th>4</th>\n",
              "      <td>./BraTS2020_TrainingData/MICCAI_BraTS2020_Trai...</td>\n",
              "      <td>./BraTS2020_TrainingData/MICCAI_BraTS2020_Trai...</td>\n",
              "    </tr>\n",
              "  </tbody>\n",
              "</table>\n",
              "</div>"
            ],
            "text/plain": [
              "                                          flair_imgs  \\\n",
              "0  ./BraTS2020_TrainingData/MICCAI_BraTS2020_Trai...   \n",
              "1  ./BraTS2020_TrainingData/MICCAI_BraTS2020_Trai...   \n",
              "2  ./BraTS2020_TrainingData/MICCAI_BraTS2020_Trai...   \n",
              "3  ./BraTS2020_TrainingData/MICCAI_BraTS2020_Trai...   \n",
              "4  ./BraTS2020_TrainingData/MICCAI_BraTS2020_Trai...   \n",
              "\n",
              "                                                segs  \n",
              "0  ./BraTS2020_TrainingData/MICCAI_BraTS2020_Trai...  \n",
              "1  ./BraTS2020_TrainingData/MICCAI_BraTS2020_Trai...  \n",
              "2  ./BraTS2020_TrainingData/MICCAI_BraTS2020_Trai...  \n",
              "3  ./BraTS2020_TrainingData/MICCAI_BraTS2020_Trai...  \n",
              "4  ./BraTS2020_TrainingData/MICCAI_BraTS2020_Trai...  "
            ]
          },
          "execution_count": 56,
          "metadata": {},
          "output_type": "execute_result"
        }
      ],
      "source": [
        "# Put all the paths into a DataFrame\n",
        "df = pd.DataFrame({'flair_imgs': all_flair_imgs, 'segs': all_segs})\n",
        "df.head()"
      ]
    },
    {
      "cell_type": "code",
      "execution_count": null,
      "id": "dd06618e-632f-4766-a3b9-977722be3192",
      "metadata": {
        "id": "dd06618e-632f-4766-a3b9-977722be3192",
        "outputId": "d84bf548-b32f-46ee-f66c-e98c6faf012e"
      },
      "outputs": [
        {
          "data": {
            "text/html": [
              "<div>\n",
              "<style scoped>\n",
              "    .dataframe tbody tr th:only-of-type {\n",
              "        vertical-align: middle;\n",
              "    }\n",
              "\n",
              "    .dataframe tbody tr th {\n",
              "        vertical-align: top;\n",
              "    }\n",
              "\n",
              "    .dataframe thead th {\n",
              "        text-align: right;\n",
              "    }\n",
              "</style>\n",
              "<table border=\"1\" class=\"dataframe\">\n",
              "  <thead>\n",
              "    <tr style=\"text-align: right;\">\n",
              "      <th></th>\n",
              "      <th>flair_imgs</th>\n",
              "      <th>segs</th>\n",
              "      <th>flair_num</th>\n",
              "      <th>segs_num</th>\n",
              "    </tr>\n",
              "  </thead>\n",
              "  <tbody>\n",
              "    <tr>\n",
              "      <th>0</th>\n",
              "      <td>./BraTS2020_TrainingData/MICCAI_BraTS2020_Trai...</td>\n",
              "      <td>./BraTS2020_TrainingData/MICCAI_BraTS2020_Trai...</td>\n",
              "      <td>1</td>\n",
              "      <td>1</td>\n",
              "    </tr>\n",
              "    <tr>\n",
              "      <th>1</th>\n",
              "      <td>./BraTS2020_TrainingData/MICCAI_BraTS2020_Trai...</td>\n",
              "      <td>./BraTS2020_TrainingData/MICCAI_BraTS2020_Trai...</td>\n",
              "      <td>2</td>\n",
              "      <td>2</td>\n",
              "    </tr>\n",
              "    <tr>\n",
              "      <th>2</th>\n",
              "      <td>./BraTS2020_TrainingData/MICCAI_BraTS2020_Trai...</td>\n",
              "      <td>./BraTS2020_TrainingData/MICCAI_BraTS2020_Trai...</td>\n",
              "      <td>3</td>\n",
              "      <td>3</td>\n",
              "    </tr>\n",
              "    <tr>\n",
              "      <th>3</th>\n",
              "      <td>./BraTS2020_TrainingData/MICCAI_BraTS2020_Trai...</td>\n",
              "      <td>./BraTS2020_TrainingData/MICCAI_BraTS2020_Trai...</td>\n",
              "      <td>4</td>\n",
              "      <td>4</td>\n",
              "    </tr>\n",
              "    <tr>\n",
              "      <th>4</th>\n",
              "      <td>./BraTS2020_TrainingData/MICCAI_BraTS2020_Trai...</td>\n",
              "      <td>./BraTS2020_TrainingData/MICCAI_BraTS2020_Trai...</td>\n",
              "      <td>5</td>\n",
              "      <td>5</td>\n",
              "    </tr>\n",
              "    <tr>\n",
              "      <th>...</th>\n",
              "      <td>...</td>\n",
              "      <td>...</td>\n",
              "      <td>...</td>\n",
              "      <td>...</td>\n",
              "    </tr>\n",
              "    <tr>\n",
              "      <th>364</th>\n",
              "      <td>./BraTS2020_TrainingData/MICCAI_BraTS2020_Trai...</td>\n",
              "      <td>./BraTS2020_TrainingData/MICCAI_BraTS2020_Trai...</td>\n",
              "      <td>365</td>\n",
              "      <td>365</td>\n",
              "    </tr>\n",
              "    <tr>\n",
              "      <th>365</th>\n",
              "      <td>./BraTS2020_TrainingData/MICCAI_BraTS2020_Trai...</td>\n",
              "      <td>./BraTS2020_TrainingData/MICCAI_BraTS2020_Trai...</td>\n",
              "      <td>366</td>\n",
              "      <td>366</td>\n",
              "    </tr>\n",
              "    <tr>\n",
              "      <th>366</th>\n",
              "      <td>./BraTS2020_TrainingData/MICCAI_BraTS2020_Trai...</td>\n",
              "      <td>./BraTS2020_TrainingData/MICCAI_BraTS2020_Trai...</td>\n",
              "      <td>367</td>\n",
              "      <td>367</td>\n",
              "    </tr>\n",
              "    <tr>\n",
              "      <th>367</th>\n",
              "      <td>./BraTS2020_TrainingData/MICCAI_BraTS2020_Trai...</td>\n",
              "      <td>./BraTS2020_TrainingData/MICCAI_BraTS2020_Trai...</td>\n",
              "      <td>368</td>\n",
              "      <td>368</td>\n",
              "    </tr>\n",
              "    <tr>\n",
              "      <th>368</th>\n",
              "      <td>./BraTS2020_TrainingData/MICCAI_BraTS2020_Trai...</td>\n",
              "      <td>./BraTS2020_TrainingData/MICCAI_BraTS2020_Trai...</td>\n",
              "      <td>369</td>\n",
              "      <td>369</td>\n",
              "    </tr>\n",
              "  </tbody>\n",
              "</table>\n",
              "<p>369 rows × 4 columns</p>\n",
              "</div>"
            ],
            "text/plain": [
              "                                            flair_imgs  \\\n",
              "0    ./BraTS2020_TrainingData/MICCAI_BraTS2020_Trai...   \n",
              "1    ./BraTS2020_TrainingData/MICCAI_BraTS2020_Trai...   \n",
              "2    ./BraTS2020_TrainingData/MICCAI_BraTS2020_Trai...   \n",
              "3    ./BraTS2020_TrainingData/MICCAI_BraTS2020_Trai...   \n",
              "4    ./BraTS2020_TrainingData/MICCAI_BraTS2020_Trai...   \n",
              "..                                                 ...   \n",
              "364  ./BraTS2020_TrainingData/MICCAI_BraTS2020_Trai...   \n",
              "365  ./BraTS2020_TrainingData/MICCAI_BraTS2020_Trai...   \n",
              "366  ./BraTS2020_TrainingData/MICCAI_BraTS2020_Trai...   \n",
              "367  ./BraTS2020_TrainingData/MICCAI_BraTS2020_Trai...   \n",
              "368  ./BraTS2020_TrainingData/MICCAI_BraTS2020_Trai...   \n",
              "\n",
              "                                                  segs  flair_num  segs_num  \n",
              "0    ./BraTS2020_TrainingData/MICCAI_BraTS2020_Trai...          1         1  \n",
              "1    ./BraTS2020_TrainingData/MICCAI_BraTS2020_Trai...          2         2  \n",
              "2    ./BraTS2020_TrainingData/MICCAI_BraTS2020_Trai...          3         3  \n",
              "3    ./BraTS2020_TrainingData/MICCAI_BraTS2020_Trai...          4         4  \n",
              "4    ./BraTS2020_TrainingData/MICCAI_BraTS2020_Trai...          5         5  \n",
              "..                                                 ...        ...       ...  \n",
              "364  ./BraTS2020_TrainingData/MICCAI_BraTS2020_Trai...        365       365  \n",
              "365  ./BraTS2020_TrainingData/MICCAI_BraTS2020_Trai...        366       366  \n",
              "366  ./BraTS2020_TrainingData/MICCAI_BraTS2020_Trai...        367       367  \n",
              "367  ./BraTS2020_TrainingData/MICCAI_BraTS2020_Trai...        368       368  \n",
              "368  ./BraTS2020_TrainingData/MICCAI_BraTS2020_Trai...        369       369  \n",
              "\n",
              "[369 rows x 4 columns]"
            ]
          },
          "execution_count": 57,
          "metadata": {},
          "output_type": "execute_result"
        }
      ],
      "source": [
        "# Sanity check\n",
        "df['flair_num'] = df['flair_imgs'].apply(lambda x: int(x.split(\"\\\\\")[-1].split(\"_\")[2]))\n",
        "df['segs_num'] = df['segs'].apply(lambda x: int(x.split(\"\\\\\")[-1].split(\"_\")[2]))\n",
        "df"
      ]
    },
    {
      "cell_type": "code",
      "execution_count": null,
      "id": "4c0ee6dd-830a-43b4-a660-5510d8a54c10",
      "metadata": {
        "id": "4c0ee6dd-830a-43b4-a660-5510d8a54c10",
        "outputId": "53df7927-b5d2-4296-8abb-eb51cf88521d"
      },
      "outputs": [
        {
          "name": "stdout",
          "output_type": "stream",
          "text": [
            "(258, 4)\n",
            "(111, 4)\n"
          ]
        }
      ],
      "source": [
        "# Do a train-test split on the data\n",
        "train, test = train_test_split(df, test_size=0.3, random_state=42)\n",
        "print(train.shape)\n",
        "print(test.shape)"
      ]
    },
    {
      "cell_type": "code",
      "execution_count": null,
      "id": "23c855dc-7630-48f6-8dc9-d67d46db3363",
      "metadata": {
        "id": "23c855dc-7630-48f6-8dc9-d67d46db3363",
        "outputId": "98d1064f-0d49-4255-e5e8-eef316b3dd9f"
      },
      "outputs": [
        {
          "name": "stdout",
          "output_type": "stream",
          "text": [
            "(100, 4)\n"
          ]
        },
        {
          "data": {
            "text/html": [
              "<div>\n",
              "<style scoped>\n",
              "    .dataframe tbody tr th:only-of-type {\n",
              "        vertical-align: middle;\n",
              "    }\n",
              "\n",
              "    .dataframe tbody tr th {\n",
              "        vertical-align: top;\n",
              "    }\n",
              "\n",
              "    .dataframe thead th {\n",
              "        text-align: right;\n",
              "    }\n",
              "</style>\n",
              "<table border=\"1\" class=\"dataframe\">\n",
              "  <thead>\n",
              "    <tr style=\"text-align: right;\">\n",
              "      <th></th>\n",
              "      <th>flair_imgs</th>\n",
              "      <th>segs</th>\n",
              "      <th>flair_num</th>\n",
              "      <th>segs_num</th>\n",
              "    </tr>\n",
              "  </thead>\n",
              "  <tbody>\n",
              "    <tr>\n",
              "      <th>0</th>\n",
              "      <td>./BraTS2020_TrainingData/MICCAI_BraTS2020_Trai...</td>\n",
              "      <td>./BraTS2020_TrainingData/MICCAI_BraTS2020_Trai...</td>\n",
              "      <td>316</td>\n",
              "      <td>316</td>\n",
              "    </tr>\n",
              "    <tr>\n",
              "      <th>1</th>\n",
              "      <td>./BraTS2020_TrainingData/MICCAI_BraTS2020_Trai...</td>\n",
              "      <td>./BraTS2020_TrainingData/MICCAI_BraTS2020_Trai...</td>\n",
              "      <td>136</td>\n",
              "      <td>136</td>\n",
              "    </tr>\n",
              "    <tr>\n",
              "      <th>2</th>\n",
              "      <td>./BraTS2020_TrainingData/MICCAI_BraTS2020_Trai...</td>\n",
              "      <td>./BraTS2020_TrainingData/MICCAI_BraTS2020_Trai...</td>\n",
              "      <td>227</td>\n",
              "      <td>227</td>\n",
              "    </tr>\n",
              "    <tr>\n",
              "      <th>3</th>\n",
              "      <td>./BraTS2020_TrainingData/MICCAI_BraTS2020_Trai...</td>\n",
              "      <td>./BraTS2020_TrainingData/MICCAI_BraTS2020_Trai...</td>\n",
              "      <td>331</td>\n",
              "      <td>331</td>\n",
              "    </tr>\n",
              "    <tr>\n",
              "      <th>4</th>\n",
              "      <td>./BraTS2020_TrainingData/MICCAI_BraTS2020_Trai...</td>\n",
              "      <td>./BraTS2020_TrainingData/MICCAI_BraTS2020_Trai...</td>\n",
              "      <td>269</td>\n",
              "      <td>269</td>\n",
              "    </tr>\n",
              "  </tbody>\n",
              "</table>\n",
              "</div>"
            ],
            "text/plain": [
              "                                          flair_imgs  \\\n",
              "0  ./BraTS2020_TrainingData/MICCAI_BraTS2020_Trai...   \n",
              "1  ./BraTS2020_TrainingData/MICCAI_BraTS2020_Trai...   \n",
              "2  ./BraTS2020_TrainingData/MICCAI_BraTS2020_Trai...   \n",
              "3  ./BraTS2020_TrainingData/MICCAI_BraTS2020_Trai...   \n",
              "4  ./BraTS2020_TrainingData/MICCAI_BraTS2020_Trai...   \n",
              "\n",
              "                                                segs  flair_num  segs_num  \n",
              "0  ./BraTS2020_TrainingData/MICCAI_BraTS2020_Trai...        316       316  \n",
              "1  ./BraTS2020_TrainingData/MICCAI_BraTS2020_Trai...        136       136  \n",
              "2  ./BraTS2020_TrainingData/MICCAI_BraTS2020_Trai...        227       227  \n",
              "3  ./BraTS2020_TrainingData/MICCAI_BraTS2020_Trai...        331       331  \n",
              "4  ./BraTS2020_TrainingData/MICCAI_BraTS2020_Trai...        269       269  "
            ]
          },
          "metadata": {},
          "output_type": "display_data"
        }
      ],
      "source": [
        "# Obtain 100 random samples for training\n",
        "train.reset_index(inplace=True,drop=True)\n",
        "train = train.sample(n=100, random_state=40)\n",
        "train.reset_index(inplace=True,drop=True)\n",
        "print(train.shape)\n",
        "display(train.head())"
      ]
    },
    {
      "cell_type": "code",
      "execution_count": null,
      "id": "2352b4f9-f24d-4052-b967-2f6c0b1c2887",
      "metadata": {
        "id": "2352b4f9-f24d-4052-b967-2f6c0b1c2887",
        "outputId": "c7c26d08-1763-4730-81be-3514a6892ead"
      },
      "outputs": [
        {
          "name": "stdout",
          "output_type": "stream",
          "text": [
            "(50, 4)\n"
          ]
        },
        {
          "data": {
            "text/html": [
              "<div>\n",
              "<style scoped>\n",
              "    .dataframe tbody tr th:only-of-type {\n",
              "        vertical-align: middle;\n",
              "    }\n",
              "\n",
              "    .dataframe tbody tr th {\n",
              "        vertical-align: top;\n",
              "    }\n",
              "\n",
              "    .dataframe thead th {\n",
              "        text-align: right;\n",
              "    }\n",
              "</style>\n",
              "<table border=\"1\" class=\"dataframe\">\n",
              "  <thead>\n",
              "    <tr style=\"text-align: right;\">\n",
              "      <th></th>\n",
              "      <th>flair_imgs</th>\n",
              "      <th>segs</th>\n",
              "      <th>flair_num</th>\n",
              "      <th>segs_num</th>\n",
              "    </tr>\n",
              "  </thead>\n",
              "  <tbody>\n",
              "    <tr>\n",
              "      <th>0</th>\n",
              "      <td>./BraTS2020_TrainingData/MICCAI_BraTS2020_Trai...</td>\n",
              "      <td>./BraTS2020_TrainingData/MICCAI_BraTS2020_Trai...</td>\n",
              "      <td>358</td>\n",
              "      <td>358</td>\n",
              "    </tr>\n",
              "    <tr>\n",
              "      <th>1</th>\n",
              "      <td>./BraTS2020_TrainingData/MICCAI_BraTS2020_Trai...</td>\n",
              "      <td>./BraTS2020_TrainingData/MICCAI_BraTS2020_Trai...</td>\n",
              "      <td>234</td>\n",
              "      <td>234</td>\n",
              "    </tr>\n",
              "    <tr>\n",
              "      <th>2</th>\n",
              "      <td>./BraTS2020_TrainingData/MICCAI_BraTS2020_Trai...</td>\n",
              "      <td>./BraTS2020_TrainingData/MICCAI_BraTS2020_Trai...</td>\n",
              "      <td>58</td>\n",
              "      <td>58</td>\n",
              "    </tr>\n",
              "    <tr>\n",
              "      <th>3</th>\n",
              "      <td>./BraTS2020_TrainingData/MICCAI_BraTS2020_Trai...</td>\n",
              "      <td>./BraTS2020_TrainingData/MICCAI_BraTS2020_Trai...</td>\n",
              "      <td>117</td>\n",
              "      <td>117</td>\n",
              "    </tr>\n",
              "    <tr>\n",
              "      <th>4</th>\n",
              "      <td>./BraTS2020_TrainingData/MICCAI_BraTS2020_Trai...</td>\n",
              "      <td>./BraTS2020_TrainingData/MICCAI_BraTS2020_Trai...</td>\n",
              "      <td>221</td>\n",
              "      <td>221</td>\n",
              "    </tr>\n",
              "  </tbody>\n",
              "</table>\n",
              "</div>"
            ],
            "text/plain": [
              "                                          flair_imgs  \\\n",
              "0  ./BraTS2020_TrainingData/MICCAI_BraTS2020_Trai...   \n",
              "1  ./BraTS2020_TrainingData/MICCAI_BraTS2020_Trai...   \n",
              "2  ./BraTS2020_TrainingData/MICCAI_BraTS2020_Trai...   \n",
              "3  ./BraTS2020_TrainingData/MICCAI_BraTS2020_Trai...   \n",
              "4  ./BraTS2020_TrainingData/MICCAI_BraTS2020_Trai...   \n",
              "\n",
              "                                                segs  flair_num  segs_num  \n",
              "0  ./BraTS2020_TrainingData/MICCAI_BraTS2020_Trai...        358       358  \n",
              "1  ./BraTS2020_TrainingData/MICCAI_BraTS2020_Trai...        234       234  \n",
              "2  ./BraTS2020_TrainingData/MICCAI_BraTS2020_Trai...         58        58  \n",
              "3  ./BraTS2020_TrainingData/MICCAI_BraTS2020_Trai...        117       117  \n",
              "4  ./BraTS2020_TrainingData/MICCAI_BraTS2020_Trai...        221       221  "
            ]
          },
          "metadata": {},
          "output_type": "display_data"
        }
      ],
      "source": [
        "# Obtain 50 random samples for testing\n",
        "test.reset_index(inplace=True,drop=True)\n",
        "test = test.sample(n=50, random_state=42)\n",
        "test.reset_index(inplace=True,drop=True)\n",
        "print(test.shape)\n",
        "display(test.head())"
      ]
    },
    {
      "cell_type": "code",
      "execution_count": null,
      "id": "da8c9f76-4b88-4bfb-80ea-1dfb340ccc0d",
      "metadata": {
        "id": "da8c9f76-4b88-4bfb-80ea-1dfb340ccc0d"
      },
      "outputs": [],
      "source": [
        "# Copy all the train images and their corresponding segmentations to their respective folders\n",
        "train_img_dest = \"./train_images\"\n",
        "train_seg_dest = \"./train_segs\"\n",
        "for index, row in train.iterrows():\n",
        "    shutil.copy(row['flair_imgs'], train_img_dest)\n",
        "    shutil.copy(row['segs'], train_seg_dest)"
      ]
    },
    {
      "cell_type": "code",
      "execution_count": null,
      "id": "590c2561-8042-482b-9f82-410eba69dc8a",
      "metadata": {
        "id": "590c2561-8042-482b-9f82-410eba69dc8a"
      },
      "outputs": [],
      "source": [
        "# Copy all the test images and their corresponding segmentations to their respective folders\n",
        "test_img_dest = \"./test_images\"\n",
        "test_seg_dest = \"./test_segs\"\n",
        "for index, row in test.iterrows():\n",
        "    shutil.copy(row['flair_imgs'], test_img_dest)\n",
        "    shutil.copy(row['segs'], test_seg_dest)"
      ]
    }
  ],
  "metadata": {
    "kernelspec": {
      "display_name": "Python 3",
      "language": "python",
      "name": "python3"
    },
    "language_info": {
      "codemirror_mode": {
        "name": "ipython",
        "version": 3
      },
      "file_extension": ".py",
      "mimetype": "text/x-python",
      "name": "python",
      "nbconvert_exporter": "python",
      "pygments_lexer": "ipython3",
      "version": "3.8.8"
    },
    "colab": {
      "provenance": [],
      "include_colab_link": true
    }
  },
  "nbformat": 4,
  "nbformat_minor": 5
}