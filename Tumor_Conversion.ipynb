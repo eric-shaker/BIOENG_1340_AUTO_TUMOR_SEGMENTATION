{
  "cells": [
    {
      "cell_type": "markdown",
      "metadata": {
        "id": "view-in-github",
        "colab_type": "text"
      },
      "source": [
        "<a href=\"https://colab.research.google.com/github/eric-shaker/BIOENG_1340_AUTO_TUMOR_SEGMENTATION/blob/main/Tumor_Conversion.ipynb\" target=\"_parent\"><img src=\"https://colab.research.google.com/assets/colab-badge.svg\" alt=\"Open In Colab\"/></a>"
      ]
    },
    {
      "cell_type": "code",
      "execution_count": null,
      "id": "1059398c-673e-44b0-b340-8aaae8c931f3",
      "metadata": {
        "id": "1059398c-673e-44b0-b340-8aaae8c931f3"
      },
      "outputs": [],
      "source": [
        "# Import all the packages\n",
        "import os\n",
        "import SimpleITK as sitk\n",
        "import numpy as np\n",
        "from tqdm import tqdm"
      ]
    },
    {
      "cell_type": "code",
      "execution_count": null,
      "id": "7e4f81a7-87d3-486f-9938-2a85dcd178cf",
      "metadata": {
        "id": "7e4f81a7-87d3-486f-9938-2a85dcd178cf"
      },
      "outputs": [],
      "source": [
        "# Create directories to store the modified tumors\n",
        "os.makedirs(\"./train_segs_WT\", exist_ok=True)\n",
        "os.makedirs(\"./test_segs_WT\", exist_ok=True)"
      ]
    },
    {
      "cell_type": "code",
      "execution_count": null,
      "id": "2c53e8b6-dc84-4de9-935e-56d95b25404c",
      "metadata": {
        "id": "2c53e8b6-dc84-4de9-935e-56d95b25404c"
      },
      "outputs": [],
      "source": [
        "# Declare the source paths for the training and test masks\n",
        "train_source_path = \"./train_segs\"\n",
        "test_source_path = \"./test_segs\""
      ]
    },
    {
      "cell_type": "code",
      "execution_count": null,
      "id": "627fb7c9-65b4-4f83-9b8f-21816b1638ae",
      "metadata": {
        "id": "627fb7c9-65b4-4f83-9b8f-21816b1638ae"
      },
      "outputs": [],
      "source": [
        "# Function to convert the multi-labeled tumor mask to a binary-labeled tumor mask\n",
        "def tumor_extraction(img_path, dest_path):\n",
        "    imgs = os.listdir(img_path)\n",
        "    for img_name in tqdm(imgs):\n",
        "        img = sitk.ReadImage(os.path.join(img_path, img_name))\n",
        "        temp = sitk.BinaryThreshold(img, lowerThreshold=1, upperThreshold=5, insideValue=1, outsideValue=0)\n",
        "        idx = img_name.find(\".\")\n",
        "        new_img_name = img_name[:idx] + \"_WT\" + img_name[idx:]\n",
        "        sitk.WriteImage(temp, os.path.join(dest_path, new_img_name))"
      ]
    },
    {
      "cell_type": "code",
      "execution_count": null,
      "id": "9381d386-a04c-47a7-9803-759aed27e4c0",
      "metadata": {
        "id": "9381d386-a04c-47a7-9803-759aed27e4c0",
        "outputId": "11761d9d-7360-4f0e-c7b2-92696c204d55"
      },
      "outputs": [
        {
          "name": "stderr",
          "output_type": "stream",
          "text": [
            "100%|████████████████████████████████████████████████████████████████████████████████| 100/100 [00:02<00:00, 34.63it/s]\n",
            "100%|██████████████████████████████████████████████████████████████████████████████████| 50/50 [00:01<00:00, 27.68it/s]\n"
          ]
        }
      ],
      "source": [
        "# Run the function on the training and test tumor masks\n",
        "tumor_extraction(train_source_path, \"./train_segs_WT\")\n",
        "tumor_extraction(test_source_path, \"./test_segs_WT\")"
      ]
    }
  ],
  "metadata": {
    "kernelspec": {
      "display_name": "Python 3",
      "language": "python",
      "name": "python3"
    },
    "language_info": {
      "codemirror_mode": {
        "name": "ipython",
        "version": 3
      },
      "file_extension": ".py",
      "mimetype": "text/x-python",
      "name": "python",
      "nbconvert_exporter": "python",
      "pygments_lexer": "ipython3",
      "version": "3.8.8"
    },
    "colab": {
      "provenance": [],
      "include_colab_link": true
    }
  },
  "nbformat": 4,
  "nbformat_minor": 5
}