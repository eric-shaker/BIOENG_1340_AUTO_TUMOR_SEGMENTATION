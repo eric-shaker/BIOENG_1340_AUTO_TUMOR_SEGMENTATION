{
  "nbformat": 4,
  "nbformat_minor": 0,
  "metadata": {
    "colab": {
      "provenance": [],
      "include_colab_link": true
    },
    "kernelspec": {
      "name": "python3",
      "display_name": "Python 3"
    },
    "language_info": {
      "name": "python"
    }
  },
  "cells": [
    {
      "cell_type": "markdown",
      "metadata": {
        "id": "view-in-github",
        "colab_type": "text"
      },
      "source": [
        "<a href=\"https://colab.research.google.com/github/eric-shaker/BIOENG_1340_AUTO_TUMOR_SEGMENTATION/blob/main/Statistical_Analysis.ipynb\" target=\"_parent\"><img src=\"https://colab.research.google.com/assets/colab-badge.svg\" alt=\"Open In Colab\"/></a>"
      ]
    },
    {
      "cell_type": "code",
      "execution_count": null,
      "metadata": {
        "colab": {
          "base_uri": "https://localhost:8080/"
        },
        "id": "HSgFn_v1XxIJ",
        "outputId": "b44c4fb0-c6f5-48a4-ef60-2053eb9909c3"
      },
      "outputs": [
        {
          "output_type": "stream",
          "name": "stdout",
          "text": [
            "Mounted at /content/gdrive\n"
          ]
        }
      ],
      "source": [
        "from google.colab import drive\n",
        "drive.mount('/content/gdrive')"
      ]
    },
    {
      "cell_type": "code",
      "source": [
        "!pip install SimpleITK"
      ],
      "metadata": {
        "colab": {
          "base_uri": "https://localhost:8080/"
        },
        "id": "kBEOPWPWYD6j",
        "outputId": "0fdf6501-af55-48cd-bcba-ed6ca197fde9"
      },
      "execution_count": null,
      "outputs": [
        {
          "output_type": "stream",
          "name": "stdout",
          "text": [
            "Looking in indexes: https://pypi.org/simple, https://us-python.pkg.dev/colab-wheels/public/simple/\n",
            "Collecting SimpleITK\n",
            "  Downloading SimpleITK-2.2.0-cp38-cp38-manylinux_2_17_x86_64.manylinux2014_x86_64.whl (52.8 MB)\n",
            "\u001b[K     |████████████████████████████████| 52.8 MB 161 kB/s \n",
            "\u001b[?25hInstalling collected packages: SimpleITK\n",
            "Successfully installed SimpleITK-2.2.0\n"
          ]
        }
      ]
    },
    {
      "cell_type": "code",
      "source": [
        "# Import the packages\n",
        "import numpy as np\n",
        "import SimpleITK as sitk\n",
        "import os\n",
        "import pandas as pd\n",
        "from tqdm import tqdm\n",
        "import matplotlib.pyplot as plt\n",
        "import seaborn as sns\n",
        "from scipy import stats"
      ],
      "metadata": {
        "id": "l8GQYLb0YGAC"
      },
      "execution_count": null,
      "outputs": []
    },
    {
      "cell_type": "code",
      "source": [
        "# Extract the values corresponding to the tumor region of the brain and store that in one array and store the values of the rest of the brain in another array for each image\n",
        "def val_extraction(img_path, seg_path):\n",
        "  all_imgs = sorted(os.listdir(img_path))\n",
        "  all_segs = sorted(os.listdir(seg_path))\n",
        "  all_imgs = [os.path.join(img_path, x) for x in all_imgs]\n",
        "  all_segs = [os.path.join(seg_path, x) for x in all_segs]\n",
        "  paths = pd.DataFrame({'img_path': all_imgs, 'seg_path': all_segs})\n",
        "\n",
        "  tumor_vals = list()\n",
        "  rest_vals = list()\n",
        "  for index, row in tqdm(paths.iterrows()):\n",
        "    img = sitk.ReadImage(row['img_path'])\n",
        "    seg = sitk.ReadImage(row['seg_path'])\n",
        "    npimg = sitk.GetArrayFromImage(img)\n",
        "    npseg = sitk.GetArrayFromImage(seg)\n",
        "    npimg = np.ravel(npimg)\n",
        "    npseg = np.ravel(npseg)\n",
        "    tumor_idx = np.where(npseg == 1)[0]\n",
        "    rest_idx = np.where(npseg == 0)[0]\n",
        "    tumor_vals.append(npimg[tumor_idx])\n",
        "    rest_vals.append(npimg[rest_idx])\n",
        "\n",
        "  tumor_vals = np.concatenate(tumor_vals)\n",
        "  rest_vals = np.concatenate(rest_vals)\n",
        "  return tumor_vals, rest_vals"
      ],
      "metadata": {
        "id": "0FmhXA6V8PzG"
      },
      "execution_count": null,
      "outputs": []
    },
    {
      "cell_type": "code",
      "source": [
        "# Function to exclude outliers\n",
        "def reject_outliers(data, m=2):\n",
        "    return data[abs(data - np.mean(data)) < m * np.std(data)]"
      ],
      "metadata": {
        "id": "rFL-6zGainE1"
      },
      "execution_count": null,
      "outputs": []
    },
    {
      "cell_type": "markdown",
      "source": [
        "# Training Images"
      ],
      "metadata": {
        "id": "jw3BMvtDE8Fv"
      }
    },
    {
      "cell_type": "code",
      "source": [
        "# Obtain the tumor and surrounding area brain intensity values for all the training images\n",
        "train_img_path = \"/content/gdrive/MyDrive/BIOENG_1340/BIOENG 1340 - Final Project/images/train_images64\"\n",
        "train_seg_path = \"/content/gdrive/MyDrive/BIOENG_1340/BIOENG 1340 - Final Project/segs/train_segs_WT64\"\n",
        "\n",
        "tumor_vals, rest_vals = val_extraction(train_img_path, train_seg_path)\n",
        "print(tumor_vals.shape)\n",
        "print(rest_vals.shape)"
      ],
      "metadata": {
        "id": "S5RvTBd_YOWR",
        "colab": {
          "base_uri": "https://localhost:8080/"
        },
        "outputId": "e3368082-dfe8-425f-dd70-08113d945521"
      },
      "execution_count": null,
      "outputs": [
        {
          "output_type": "stream",
          "name": "stderr",
          "text": [
            "100it [00:49,  2.01it/s]"
          ]
        },
        {
          "output_type": "stream",
          "name": "stdout",
          "text": [
            "(272100,)\n",
            "(25942300,)\n"
          ]
        },
        {
          "output_type": "stream",
          "name": "stderr",
          "text": [
            "\n"
          ]
        }
      ]
    },
    {
      "cell_type": "code",
      "source": [
        "# Boxplots of the tumor and remaining area (with outliers)\n",
        "fig, ax = plt.subplots(figsize = (10,7))\n",
        "print(f\"Tumor: {np.mean(tumor_vals)} +/- {np.std(tumor_vals)}\")\n",
        "print(f\"Rest: {np.mean(rest_vals)} +/- {np.std(rest_vals)}\")\n",
        "sns.boxplot(data=[tumor_vals, rest_vals])\n",
        "ax.set(xticks=[0,1], xticklabels=['Tumor','Rest'])\n",
        "plt.ylabel('Intensity Values')\n",
        "plt.title('Training Images')"
      ],
      "metadata": {
        "colab": {
          "base_uri": "https://localhost:8080/",
          "height": 497
        },
        "id": "p2uoDd1PBKJD",
        "outputId": "6fce7234-244e-42fd-e05f-2244bd135270"
      },
      "execution_count": null,
      "outputs": [
        {
          "output_type": "stream",
          "name": "stdout",
          "text": [
            "Tumor: 153.37823486328125 +/- 35.58698654174805\n",
            "Rest: 40.17884063720703 +/- 30.544763565063477\n"
          ]
        },
        {
          "output_type": "execute_result",
          "data": {
            "text/plain": [
              "Text(0.5, 1.0, 'Training Images')"
            ]
          },
          "metadata": {},
          "execution_count": 8
        },
        {
          "output_type": "display_data",
          "data": {
            "text/plain": [
              "<Figure size 720x504 with 1 Axes>"
            ],
            "image/png": "[encoded data removed]"
          },
          "metadata": {
            "needs_background": "light"
          }
        }
      ]
    },
    {
      "cell_type": "code",
      "source": [
        "# Obtain distributions without outliers\n",
        "new_tumor_vals = reject_outliers(tumor_vals)\n",
        "new_rest_vals = reject_outliers(reject_outliers(reject_outliers(rest_vals)))\n",
        "print(new_tumor_vals.shape)\n",
        "print(new_rest_vals.shape)"
      ],
      "metadata": {
        "colab": {
          "base_uri": "https://localhost:8080/"
        },
        "id": "HWv8trK2ioHh",
        "outputId": "7a3cd2ce-49f9-4f79-85d0-a4802f4c4690"
      },
      "execution_count": null,
      "outputs": [
        {
          "output_type": "stream",
          "name": "stdout",
          "text": [
            "(259444,)\n",
            "(21247406,)\n"
          ]
        }
      ]
    },
    {
      "cell_type": "code",
      "source": [
        "# Boxplots of the tumor and remaining area (no outliers)\n",
        "fig, ax = plt.subplots(figsize = (10,7))\n",
        "print(f\"Tumor: {np.mean(new_tumor_vals)} +/- {np.std(new_tumor_vals)}\")\n",
        "print(f\"Rest: {np.mean(new_rest_vals)} +/- {np.std(new_rest_vals)}\")\n",
        "sns.boxplot(data=[new_tumor_vals, new_rest_vals])\n",
        "ax.set(xticks=[0,1], xticklabels=['Tumor','Rest'])\n",
        "plt.ylabel('Intensity Values')\n",
        "plt.title('Training Images')\n",
        "font = {'family' : 'normal',\n",
        "        'weight' : 'bold',\n",
        "        'size'   : 30}\n",
        "\n",
        "plt.rc('font', **font)"
      ],
      "metadata": {
        "colab": {
          "base_uri": "https://localhost:8080/",
          "height": 570
        },
        "id": "BAjLPXpji0GF",
        "outputId": "6ffef036-50f0-4ede-c278-d45d76381c66"
      },
      "execution_count": null,
      "outputs": [
        {
          "output_type": "stream",
          "name": "stdout",
          "text": [
            "Tumor: 153.6794891357422 +/- 31.51582145690918\n",
            "Rest: 28.889442443847656 +/- 7.738950252532959\n"
          ]
        },
        {
          "output_type": "stream",
          "name": "stderr",
          "text": [
            "WARNING:matplotlib.font_manager:findfont: Font family ['normal'] not found. Falling back to DejaVu Sans.\n",
            "WARNING:matplotlib.font_manager:findfont: Font family ['normal'] not found. Falling back to DejaVu Sans.\n",
            "WARNING:matplotlib.font_manager:findfont: Font family ['normal'] not found. Falling back to DejaVu Sans.\n"
          ]
        },
        {
          "output_type": "display_data",
          "data": {
            "text/plain": [
              "<Figure size 720x504 with 1 Axes>"
            ],
            "image/png": "[encoded data removed]"
          },
          "metadata": {
            "needs_background": "light"
          }
        }
      ]
    },
    {
      "cell_type": "code",
      "source": [
        "# Student's t-test\n",
        "print(f\"T-Test with original data: {stats.ttest_ind(tumor_vals, rest_vals, equal_var=False)}\")\n",
        "print(f\"T-Test Results: {stats.ttest_ind(new_tumor_vals, new_rest_vals, equal_var=False)}\")\n",
        "_, p = stats.ttest_ind(new_tumor_vals, new_rest_vals, equal_var=False)\n",
        "print(f\"p-value = {p}\")"
      ],
      "metadata": {
        "colab": {
          "base_uri": "https://localhost:8080/"
        },
        "id": "acfMFiXpBVu3",
        "outputId": "2562f786-0294-49f0-e884-94a24faf6d14"
      },
      "execution_count": null,
      "outputs": [
        {
          "output_type": "stream",
          "name": "stdout",
          "text": [
            "T-Test with original data: Ttest_indResult(statistic=639.2094196213806, pvalue=0.0)\n",
            "T-Test Results: Ttest_indResult(statistic=777.9332925995683, pvalue=0.0)\n",
            "p-value = 0.0\n"
          ]
        }
      ]
    },
    {
      "cell_type": "code",
      "source": [
        "# Mann-Whitney U Test\n",
        "_, p_orig = stats.mannwhitneyu(tumor_vals, rest_vals)\n",
        "print(p_orig)"
      ],
      "metadata": {
        "colab": {
          "base_uri": "https://localhost:8080/"
        },
        "id": "WFF1KFVLBxgF",
        "outputId": "494cc21f-6e88-40cc-964f-26508a0d726c"
      },
      "execution_count": null,
      "outputs": [
        {
          "output_type": "stream",
          "name": "stdout",
          "text": [
            "0.0\n"
          ]
        }
      ]
    },
    {
      "cell_type": "markdown",
      "source": [
        "# Testing Images"
      ],
      "metadata": {
        "id": "1wFjLb7wFDX5"
      }
    },
    {
      "cell_type": "code",
      "source": [
        "# Obtain the tumor and surrounding area brain intensity values for all the testing images\n",
        "train_img_path = \"/content/gdrive/MyDrive/BIOENG_1340/BIOENG 1340 - Final Project/images/test_images64\"\n",
        "train_seg_path = \"/content/gdrive/MyDrive/BIOENG_1340/BIOENG 1340 - Final Project/segs/test_segs_WT64\"\n",
        "\n",
        "tumor_vals, rest_vals = val_extraction(train_img_path, train_seg_path)\n",
        "print(tumor_vals.shape)\n",
        "print(rest_vals.shape)"
      ],
      "metadata": {
        "colab": {
          "base_uri": "https://localhost:8080/"
        },
        "outputId": "d9b28d6f-3e8e-4e6e-a431-c26cb479151f",
        "id": "zMXBEGW9FDX7"
      },
      "execution_count": null,
      "outputs": [
        {
          "output_type": "stream",
          "name": "stderr",
          "text": [
            "50it [00:37,  1.32it/s]"
          ]
        },
        {
          "output_type": "stream",
          "name": "stdout",
          "text": [
            "(147788,)\n",
            "(12959412,)\n"
          ]
        },
        {
          "output_type": "stream",
          "name": "stderr",
          "text": [
            "\n"
          ]
        }
      ]
    },
    {
      "cell_type": "code",
      "source": [
        "# Boxplots of the tumor and remaining area (with outliers)\n",
        "fig, ax = plt.subplots(figsize = (10,7))\n",
        "print(f\"Tumor: {np.mean(tumor_vals)} +/- {np.std(tumor_vals)}\")\n",
        "print(f\"Rest: {np.mean(rest_vals)} +/- {np.std(rest_vals)}\")\n",
        "sns.boxplot(data=[tumor_vals, rest_vals])\n",
        "ax.set(xticks=[0,1], xticklabels=['Tumor','Rest'])\n",
        "plt.ylabel('Intensity Values')\n",
        "plt.title('Testing Images')"
      ],
      "metadata": {
        "colab": {
          "base_uri": "https://localhost:8080/",
          "height": 534
        },
        "outputId": "993dd695-ba58-4828-ee99-73e82e364b0f",
        "id": "BPK_fJxHFDYT"
      },
      "execution_count": null,
      "outputs": [
        {
          "output_type": "stream",
          "name": "stdout",
          "text": [
            "Tumor: 156.24468994140625 +/- 40.321292877197266\n",
            "Rest: 39.80182647705078 +/- 28.97805404663086\n"
          ]
        },
        {
          "output_type": "execute_result",
          "data": {
            "text/plain": [
              "Text(0.5, 1.0, 'Testing Images')"
            ]
          },
          "metadata": {},
          "execution_count": 13
        },
        {
          "output_type": "display_data",
          "data": {
            "text/plain": [
              "<Figure size 720x504 with 1 Axes>"
            ],
            "image/png": "[encoded data removed]"
          },
          "metadata": {
            "needs_background": "light"
          }
        }
      ]
    },
    {
      "cell_type": "code",
      "source": [
        "# Obtain distributions without outliers\n",
        "new_tumor_vals = reject_outliers(tumor_vals)\n",
        "new_rest_vals = reject_outliers(reject_outliers(reject_outliers(rest_vals)))\n",
        "print(new_tumor_vals.shape)\n",
        "print(new_rest_vals.shape)"
      ],
      "metadata": {
        "colab": {
          "base_uri": "https://localhost:8080/"
        },
        "outputId": "51129424-ee14-4cb4-ca0e-903413fa3a20",
        "id": "-zxsLAfNFDYV"
      },
      "execution_count": null,
      "outputs": [
        {
          "output_type": "stream",
          "name": "stdout",
          "text": [
            "(142085,)\n",
            "(11052303,)\n"
          ]
        }
      ]
    },
    {
      "cell_type": "code",
      "source": [
        "# Boxplots of the tumor and remaining area (no outliers)\n",
        "fig, ax = plt.subplots(figsize = (10,7))\n",
        "print(f\"Tumor: {np.mean(new_tumor_vals)} +/- {np.std(new_tumor_vals)}\")\n",
        "print(f\"Rest: {np.mean(new_rest_vals)} +/- {np.std(new_rest_vals)}\")\n",
        "sns.boxplot(data=[new_tumor_vals, new_rest_vals])\n",
        "ax.set(xticks=[0,1], xticklabels=['Tumor','Rest'])\n",
        "plt.ylabel('Intensity Values')\n",
        "plt.title('Testing Images')"
      ],
      "metadata": {
        "colab": {
          "base_uri": "https://localhost:8080/",
          "height": 534
        },
        "outputId": "179f8793-8b26-4473-b88e-ca9fd012ab1e",
        "id": "MoVf2ExIFDYW"
      },
      "execution_count": null,
      "outputs": [
        {
          "output_type": "stream",
          "name": "stdout",
          "text": [
            "Tumor: 156.91493225097656 +/- 37.13691711425781\n",
            "Rest: 29.177553176879883 +/- 7.657085418701172\n"
          ]
        },
        {
          "output_type": "execute_result",
          "data": {
            "text/plain": [
              "Text(0.5, 1.0, 'Testing Images')"
            ]
          },
          "metadata": {},
          "execution_count": 15
        },
        {
          "output_type": "display_data",
          "data": {
            "text/plain": [
              "<Figure size 720x504 with 1 Axes>"
            ],
            "image/png": "[encoded data removed]"
          },
          "metadata": {
            "needs_background": "light"
          }
        }
      ]
    },
    {
      "cell_type": "code",
      "source": [
        "# Student's t-test\n",
        "print(f\"T-Test with original data: {stats.ttest_ind(tumor_vals, rest_vals, equal_var=False)}\")\n",
        "print(f\"T-Test Results: {stats.ttest_ind(new_tumor_vals, new_rest_vals, equal_var=False)}\")"
      ],
      "metadata": {
        "colab": {
          "base_uri": "https://localhost:8080/"
        },
        "outputId": "c6d376fb-6cd1-4af5-b460-dbb3a0379c48",
        "id": "amdW0VqXFDYX"
      },
      "execution_count": null,
      "outputs": [
        {
          "output_type": "stream",
          "name": "stdout",
          "text": [
            "T-Test with original data: Ttest_indResult(statistic=428.92053377382825, pvalue=0.0)\n",
            "T-Test Results: Ttest_indResult(statistic=515.7093727737592, pvalue=0.0)\n"
          ]
        }
      ]
    },
    {
      "cell_type": "code",
      "source": [
        "# Mann-Whitney U Test\n",
        "_, p_orig = stats.mannwhitneyu(tumor_vals, rest_vals)\n",
        "print(p_orig)"
      ],
      "metadata": {
        "colab": {
          "base_uri": "https://localhost:8080/"
        },
        "outputId": "da797862-6734-4d15-b5e9-ddded2079159",
        "id": "56l-Y_QZFDYZ"
      },
      "execution_count": null,
      "outputs": [
        {
          "output_type": "stream",
          "name": "stdout",
          "text": [
            "0.0\n"
          ]
        }
      ]
    }
  ]
}